{
 "cells": [
  {
   "cell_type": "code",
   "execution_count": 1,
   "metadata": {},
   "outputs": [
    {
     "name": "stdout",
     "output_type": "stream",
     "text": [
      "   Student   V1   V2   V3   V4   V5   V6   V7   V8   V9  V10\n",
      "0        1  1.0  1.0  1.0  1.0  0.0  1.0  1.0  0.0  1.0  0.0\n",
      "1        2  0.0  1.0  1.0  1.0  1.0  1.0  0.0  0.0  1.0  0.0\n",
      "2        3  1.0  1.0  1.0  1.0  0.0  1.0  1.0  0.0  1.0  0.0\n",
      "3        4  1.0  1.0  1.0  1.0  1.0  1.0  1.0  1.0  1.0  1.0\n",
      "4        5  1.0  1.0  1.0  1.0  1.0  1.0  0.0  1.0  0.0  1.0\n"
     ]
    }
   ],
   "source": [
    "import numpy as np\n",
    "import pandas as pd\n",
    "\n",
    "# Generate synthetic IRT dataset\n",
    "np.random.seed(42)  # For reproducibility\n",
    "num_students = 100\n",
    "num_questions = 10\n",
    "\n",
    "# Define student abilities (some better, some worse)\n",
    "student_abilities = np.random.normal(0, 1, num_students)  # Mean=0, SD=1\n",
    "student_abilities[:30] += 1  # Top 30 students are slightly better\n",
    "student_abilities[-30:] -= 1  # Bottom 30 students are slightly worse\n",
    "\n",
    "# Define item difficulties (each consecutive question is harder)\n",
    "item_difficulties = np.linspace(-2, 2, num_questions)\n",
    "\n",
    "# Generate responses using a logistic function (IRT 1PL Model)\n",
    "responses = np.zeros((num_students, num_questions))\n",
    "for i in range(num_students):\n",
    "    for j in range(num_questions):\n",
    "        prob_correct = 1 / (1 + np.exp(-(student_abilities[i] - item_difficulties[j])))\n",
    "        responses[i, j] = np.random.rand() < prob_correct\n",
    "\n",
    "# Create DataFrame\n",
    "df = pd.DataFrame(responses, columns=[f\"V{j+1}\" for j in range(num_questions)])\n",
    "df.insert(0, \"Student\", range(1, num_students + 1))\n",
    "\n",
    "# Save to CSV\n",
    "df.to_csv(\"irt_data.csv\", index=False)\n",
    "\n",
    "print(df.head())\n"
   ]
  },
  {
   "cell_type": "code",
   "execution_count": 2,
   "metadata": {},
   "outputs": [
    {
     "name": "stdout",
     "output_type": "stream",
     "text": [
      "   Student   V1   V2   V3   V4   V5\n",
      "0        1  1.0  1.0  1.0  0.0  1.0\n",
      "1        2  1.0  1.0  1.0  0.0  0.0\n",
      "2        3  1.0  1.0  1.0  1.0  0.0\n",
      "3        4  1.0  1.0  1.0  1.0  0.0\n",
      "4        5  1.0  0.0  1.0  0.0  0.0\n"
     ]
    }
   ],
   "source": [
    "import numpy as np\n",
    "import pandas as pd\n",
    "\n",
    "# Generate synthetic IRT dataset\n",
    "np.random.seed(69)  # For reproducibility\n",
    "num_students = 120\n",
    "num_questions = 5\n",
    "\n",
    "# Define student abilities (some better, some worse)\n",
    "student_abilities = np.random.normal(0, 1, num_students)  # Mean=0, SD=1\n",
    "student_abilities[:15] += 1  # Top 15 students are slightly better\n",
    "student_abilities[-15:] -= 1  # Bottom 15 students are slightly worse\n",
    "\n",
    "# Define item difficulties (each consecutive question is harder)\n",
    "item_difficulties = np.linspace(-2, 2, num_questions)\n",
    "\n",
    "# Generate responses using a logistic function (IRT 1PL Model)\n",
    "responses = np.zeros((num_students, num_questions))\n",
    "for i in range(num_students):\n",
    "    for j in range(num_questions):\n",
    "        prob_correct = 1 / (1 + np.exp(-(student_abilities[i] - item_difficulties[j])))\n",
    "        responses[i, j] = np.random.rand() < prob_correct\n",
    "\n",
    "# Create DataFrame\n",
    "df = pd.DataFrame(responses, columns=[f\"V{j+1}\" for j in range(num_questions)])\n",
    "df.insert(0, \"Student\", range(1, num_students + 1))\n",
    "\n",
    "# Save to CSV\n",
    "df.to_csv(\"irt_data_vaja.csv\", index=False)\n",
    "\n",
    "print(df.head())\n"
   ]
  }
 ],
 "metadata": {
  "kernelspec": {
   "display_name": "Python 3",
   "language": "python",
   "name": "python3"
  },
  "language_info": {
   "codemirror_mode": {
    "name": "ipython",
    "version": 3
   },
   "file_extension": ".py",
   "mimetype": "text/x-python",
   "name": "python",
   "nbconvert_exporter": "python",
   "pygments_lexer": "ipython3",
   "version": "3.13.1"
  }
 },
 "nbformat": 4,
 "nbformat_minor": 2
}
