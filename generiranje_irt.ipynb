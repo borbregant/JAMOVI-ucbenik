{
 "cells": [
  {
   "cell_type": "code",
   "execution_count": 1,
   "metadata": {},
   "outputs": [
    {
     "name": "stdout",
     "output_type": "stream",
     "text": [
      "   Student   V1   V2   V3   V4   V5   V6   V7   V8   V9  V10\n",
      "0        1  1.0  1.0  1.0  1.0  0.0  1.0  1.0  0.0  1.0  0.0\n",
      "1        2  0.0  1.0  1.0  1.0  1.0  1.0  0.0  0.0  1.0  0.0\n",
      "2        3  1.0  1.0  1.0  1.0  0.0  1.0  1.0  0.0  1.0  0.0\n",
      "3        4  1.0  1.0  1.0  1.0  1.0  1.0  1.0  1.0  1.0  1.0\n",
      "4        5  1.0  1.0  1.0  1.0  1.0  1.0  0.0  1.0  0.0  1.0\n"
     ]
    }
   ],
   "source": [
    "import numpy as np\n",
    "import pandas as pd\n",
    "\n",
    "# Generate synthetic IRT dataset\n",
    "np.random.seed(42)  # For reproducibility\n",
    "num_students = 100\n",
    "num_questions = 10\n",
    "\n",
    "# Define student abilities (some better, some worse)\n",
    "student_abilities = np.random.normal(0, 1, num_students)  # Mean=0, SD=1\n",
    "student_abilities[:30] += 1  # Top 30 students are slightly better\n",
    "student_abilities[-30:] -= 1  # Bottom 30 students are slightly worse\n",
    "\n",
    "# Define item difficulties (each consecutive question is harder)\n",
    "item_difficulties = np.linspace(-2, 2, num_questions)\n",
    "\n",
    "# Generate responses using a logistic function (IRT 1PL Model)\n",
    "responses = np.zeros((num_students, num_questions))\n",
    "for i in range(num_students):\n",
    "    for j in range(num_questions):\n",
    "        prob_correct = 1 / (1 + np.exp(-(student_abilities[i] - item_difficulties[j])))\n",
    "        responses[i, j] = np.random.rand() < prob_correct\n",
    "\n",
    "# Create DataFrame\n",
    "df = pd.DataFrame(responses, columns=[f\"V{j+1}\" for j in range(num_questions)])\n",
    "df.insert(0, \"Student\", range(1, num_students + 1))\n",
    "\n",
    "# Save to CSV\n",
    "df.to_csv(\"irt_data.csv\", index=False)\n",
    "\n",
    "print(df.head())\n"
   ]
  },
  {
   "cell_type": "code",
   "execution_count": 2,
   "metadata": {},
   "outputs": [
    {
     "name": "stdout",
     "output_type": "stream",
     "text": [
      "   Student   V1   V2   V3   V4   V5\n",
      "0        1  1.0  1.0  1.0  0.0  1.0\n",
      "1        2  1.0  1.0  1.0  0.0  0.0\n",
      "2        3  1.0  1.0  1.0  1.0  0.0\n",
      "3        4  1.0  1.0  1.0  1.0  0.0\n",
      "4        5  1.0  0.0  1.0  0.0  0.0\n"
     ]
    }
   ],
   "source": [
    "import numpy as np\n",
    "import pandas as pd\n",
    "\n",
    "# Generate synthetic IRT dataset\n",
    "np.random.seed(69)  # For reproducibility\n",
    "num_students = 120\n",
    "num_questions = 5\n",
    "\n",
    "# Define student abilities (some better, some worse)\n",
    "student_abilities = np.random.normal(0, 1, num_students)  # Mean=0, SD=1\n",
    "student_abilities[:15] += 1  # Top 15 students are slightly better\n",
    "student_abilities[-15:] -= 1  # Bottom 15 students are slightly worse\n",
    "\n",
    "# Define item difficulties (each consecutive question is harder)\n",
    "item_difficulties = np.linspace(-2, 2, num_questions)\n",
    "\n",
    "# Generate responses using a logistic function (IRT 1PL Model)\n",
    "responses = np.zeros((num_students, num_questions))\n",
    "for i in range(num_students):\n",
    "    for j in range(num_questions):\n",
    "        prob_correct = 1 / (1 + np.exp(-(student_abilities[i] - item_difficulties[j])))\n",
    "        responses[i, j] = np.random.rand() < prob_correct\n",
    "\n",
    "# Create DataFrame\n",
    "df = pd.DataFrame(responses, columns=[f\"V{j+1}\" for j in range(num_questions)])\n",
    "df.insert(0, \"Student\", range(1, num_students + 1))\n",
    "\n",
    "# Save to CSV\n",
    "df.to_csv(\"irt_data_vaja.csv\", index=False)\n",
    "\n",
    "print(df.head())\n"
   ]
  },
  {
   "cell_type": "markdown",
   "metadata": {},
   "source": [
    "politomous"
   ]
  },
  {
   "cell_type": "code",
   "execution_count": 1,
   "metadata": {},
   "outputs": [
    {
     "name": "stdout",
     "output_type": "stream",
     "text": [
      "Generirani politomski podatki (prvih 5 vrstic):\n",
      "   Student  P1  P2  P3  P4  P5  P6  P7  P8  P9  P10\n",
      "0        1   3   3   3   2   3   3   3   2   2    1\n",
      "1        2   2   3   3   4   2   2   1   1   1    1\n",
      "2        3   4   3   4   2   3   4   1   1   2    1\n",
      "3        4   3   4   3   4   3   4   2   2   3    1\n",
      "4        5   3   3   1   2   2   2   1   1   1    1\n"
     ]
    }
   ],
   "source": [
    "import numpy as np\n",
    "import pandas as pd\n",
    "\n",
    "# Nastavimo seme za naključni generator števil, da so rezultati ponovljivi.\n",
    "np.random.seed(42)\n",
    "\n",
    "# Določimo število udeležencev (študentov) in število vprašanj (postavk).\n",
    "num_students = 100\n",
    "num_questions = 10\n",
    "# Določimo število kategorij odgovorov za Likertovo lestvico (npr. 0, 1, 2, 3, 4).\n",
    "num_categories = 5\n",
    "\n",
    "# Generiramo sposobnosti udeležencev iz normalne porazdelitve (povprečje 0, standardni odklon 1).\n",
    "# Sposobnosti predstavljajo latentno lastnost, ki jo test meri (npr. znanje, mnenje).\n",
    "student_abilities = np.random.normal(0, 1, num_students)\n",
    "# Za bolj realistične podatke, \"porežemo\" ekstremne vrednosti sposobnosti,\n",
    "# da preprečimo preveč ekstremne odgovore.\n",
    "student_abilities[student_abilities > 2.0] = 2.0\n",
    "student_abilities[student_abilities < -2.0] = -2.0\n",
    "\n",
    "# Določimo \"osrednje težavnosti\" za vsako postavko.\n",
    "# To so točke na latentni lestvici, kjer je postavka \"najbolj informativna\".\n",
    "# Postavke so razporejene od lažjih (-1.5) do težjih (1.5).\n",
    "item_central_difficulties = np.linspace(-1.5, 1.5, num_questions)\n",
    "\n",
    "# Določimo skupne kategorijske pragove za Likertovo lestvico.\n",
    "# Ti pragovi definirajo meje na latentni lestvici, kjer je 50% verjetnost,\n",
    "# da se izbere določena kategorija ali višja/nižja.\n",
    "# Npr. -2.0 je meja med kategorijo 0 in 1, -0.5 med 1 in 2 itd.\n",
    "# Ti pragovi so enaki za vse postavke v modelu Rating Scale.\n",
    "category_thresholds = np.array([-2.0, -0.5, 0.5, 2.0]) # Pragovi za prehod med kategorijami (0->1, 1->2, 2->3, 3->4)\n",
    "\n",
    "# Pripravimo prazno matriko za shranjevanje odgovorov.\n",
    "polytomous_responses = np.zeros((num_students, num_questions), dtype=int)\n",
    "\n",
    "# Glavna zanka za generiranje odgovorov za vsakega udeleženca in vsako postavko.\n",
    "for i in range(num_students): # Iteriramo skozi vsakega študenta\n",
    "    for j in range(num_questions): # Iteriramo skozi vsako vprašanje\n",
    "        # Izračunamo latentni \"rezultat\" za to kombinacijo študent-vprašanje.\n",
    "        # To je razlika med sposobnostjo študenta in težavnostjo vprašanja,\n",
    "        # dodan pa je naključni šum, ki simulira merilno napako.\n",
    "        latent_score = student_abilities[i] - item_central_difficulties[j] + np.random.normal(0, 0.7)\n",
    "\n",
    "        # Določimo izbrano kategorijo na podlagi latentnega rezultata in pragov.\n",
    "        # Začnemo z najnižjo kategorijo (0).\n",
    "        chosen_category = 0\n",
    "        # Pregledamo pragove: če je latentni rezultat nad določenim pragom,\n",
    "        # se premaknemo v naslednjo kategorijo.\n",
    "        for k in range(num_categories - 1):\n",
    "            if latent_score > category_thresholds[k]:\n",
    "                chosen_category = k + 1 # Povečamo kategorijo\n",
    "            else:\n",
    "                break # Če je latentni rezultat pod pragom, ostanemo v trenutni kategoriji in končamo zanko\n",
    "\n",
    "        # Shranimo določeno kategorijo odgovora.\n",
    "        polytomous_responses[i, j] = chosen_category\n",
    "\n",
    "# Ustvarimo Pandas DataFrame iz generiranih odgovorov.\n",
    "df_polytomous = pd.DataFrame(polytomous_responses, columns=[f\"P{j+1}\" for j in range(num_questions)])\n",
    "# Dodamo stolpec \"Student\" za lažjo identifikacijo.\n",
    "df_polytomous.insert(0, \"Student\", range(1, num_students + 1))\n",
    "\n",
    "# Shranimo DataFrame v CSV datoteko.\n",
    "df_polytomous.to_csv(\"irt_polytomous_data.csv\", index=False)\n",
    "\n",
    "# Izpišemo prvih nekaj vrstic generiranih podatkov za preverjanje.\n",
    "print(\"Generirani politomski podatki (prvih 5 vrstic):\")\n",
    "print(df_polytomous.head())"
   ]
  }
 ],
 "metadata": {
  "kernelspec": {
   "display_name": "Python 3",
   "language": "python",
   "name": "python3"
  },
  "language_info": {
   "codemirror_mode": {
    "name": "ipython",
    "version": 3
   },
   "file_extension": ".py",
   "mimetype": "text/x-python",
   "name": "python",
   "nbconvert_exporter": "python",
   "pygments_lexer": "ipython3",
   "version": "3.13.1"
  }
 },
 "nbformat": 4,
 "nbformat_minor": 2
}
